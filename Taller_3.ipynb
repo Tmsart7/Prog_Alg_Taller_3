{
  "nbformat": 4,
  "nbformat_minor": 0,
  "metadata": {
    "colab": {
      "provenance": [],
      "authorship_tag": "ABX9TyP8F7yFm2rqZmH9DxUK2+EW",
      "include_colab_link": true
    },
    "kernelspec": {
      "name": "python3",
      "display_name": "Python 3"
    },
    "language_info": {
      "name": "python"
    }
  },
  "cells": [
    {
      "cell_type": "markdown",
      "metadata": {
        "id": "view-in-github",
        "colab_type": "text"
      },
      "source": [
        "<a href=\"https://colab.research.google.com/github/Tmsart7/Prog_Alg_Taller_3/blob/main/Taller_3.ipynb\" target=\"_parent\"><img src=\"https://colab.research.google.com/assets/colab-badge.svg\" alt=\"Open In Colab\"/></a>"
      ]
    },
    {
      "cell_type": "markdown",
      "source": [
        "# Taller 3 - Sintaxis Basica de Python\n",
        "\n",
        "Nombres : Tomás Arteaga y Angely Jaramillo\n",
        "- ID : 000495362 y 000499571\n",
        "- Emails : tomas.arteaga@upb.edu.co - angely.jaramillo@upb.edu.co"
      ],
      "metadata": {
        "id": "iWiMEIAR-D0g"
      }
    },
    {
      "cell_type": "code",
      "source": [
        "#Ejercicio 1\n",
        "print('Programa para calcular la posicion en un instante de tiempo')\n",
        "X_0 = float(input('ingrese la posicion inicial (m) = '))\n",
        "V = float(input('ingrese la velocidad inicial (m/s) = '))\n",
        "t = float(input('ingrese el instante de tiempo (s) = '))\n",
        "a = float(input('ingrese la aceleracion (m/s**2) = '))\n",
        "X = X + V * t + 1/2 * a * t**2\n",
        "\n",
        "print('La posicion instantanea para los datos ingresados es: ', str(X), 'm.')"
      ],
      "metadata": {
        "id": "S6UEyUb1zhkW"
      },
      "execution_count": null,
      "outputs": []
    },
    {
      "cell_type": "code",
      "execution_count": 15,
      "metadata": {
        "colab": {
          "base_uri": "https://localhost:8080/"
        },
        "id": "1kfnRd48shdo",
        "outputId": "91744812-4a2b-4610-82e5-c559db04f73a"
      },
      "outputs": [
        {
          "output_type": "stream",
          "name": "stdout",
          "text": [
            "programa para calcular la distancia entre dos puntos\n",
            "ingrese la coordenada x_1 = 5\n",
            "ingrese la coordenada y_1 = 4\n",
            "ingrese la coordenada x_2 = 3\n",
            "ingrese la coordenada x_2 = 2\n",
            "8.0\n",
            "la distancia entre las coordenadas ( 5.0 , 4.0 ) y  ( 3.0 , 2.0 ) es =  2.8284271247461903\n"
          ]
        }
      ],
      "source": [
        "  #Ejercicio 2\n",
        "  print('programa para calcular la distancia entre dos puntos')\n",
        "  x_1 = float(input('ingrese la coordenada x_1 = '))\n",
        "  y_1 = float(input('ingrese la coordenada y_1 = '))\n",
        "  x_2 = float(input('ingrese la coordenada x_2 = '))\n",
        "  y_2 = float(input('ingrese la coordenada x_2 = '))\n",
        "\n",
        "  d = (x_2 - x_1)**2 + (y_2 - y_1)**2\n",
        "  e = d**0.5\n",
        "\n",
        "print(d)\n",
        "print( 'La distancia entre las coordenadas (',str(x_1) ,',' ,str(y_1),') y ', '(',str(x_2),',',str(y_2),') es = ', str(e))\n"
      ]
    },
    {
      "cell_type": "code",
      "source": [
        "#Ejercicio 3\n",
        "print(\"Calcular el volumen de un cilindro\")\n",
        "r = float(input(\"ingrese el radio del cilindro (m) = \"))\n",
        "h = float(input(\"ingrese la altura del cilindro (m) = \"))\n",
        "\n",
        "import math\n",
        "\n",
        "V = math.pi * r**2 * h\n",
        "\n",
        "print(\"el volumen del cilindro es = \", str(V), \"m**3\")"
      ],
      "metadata": {
        "colab": {
          "base_uri": "https://localhost:8080/"
        },
        "id": "FMMMmcbd5tAf",
        "outputId": "7151baf5-728b-4c83-ba6e-929cded43ca4"
      },
      "execution_count": 24,
      "outputs": [
        {
          "output_type": "stream",
          "name": "stdout",
          "text": [
            "Calcular el volumen de un cilindro\n",
            "ingrese el radio del cilindro (m) = 5\n",
            "ingrese la altura del cilindro (m) = 6\n",
            "el volumen del cilindro es =  471.23889803846896 m**3\n"
          ]
        }
      ]
    },
    {
      "cell_type": "code",
      "source": [
        "#Ejercicio 4\n",
        "float(input(\"ingrese el valor de a = \"))\n",
        "float(input(\"ingrese el valor de b = \"))\n",
        "float(input(\"ingrese el valor de c = \"))\n",
        "float(input(\"ingrese el valor de d = \"))\n",
        "print(a > b) and (b > d)\n",
        "print((b <= c) or (c < d))\n",
        "print((a == b) and (b > c))\n",
        "print((a < c) or (b < c))\n",
        "print((a + d < c )and (b > 5))\n",
        "print((d - c >= - a * b))\n",
        "print((d * c == 5) or (c * a > 9))\n",
        "print((a * b + c > - d * 10))"
      ],
      "metadata": {
        "id": "midBuEmt5tDE"
      },
      "execution_count": null,
      "outputs": []
    }
  ]
}